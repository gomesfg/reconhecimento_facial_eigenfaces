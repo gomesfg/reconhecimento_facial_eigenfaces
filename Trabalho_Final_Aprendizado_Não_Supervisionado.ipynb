{
  "nbformat": 4,
  "nbformat_minor": 0,
  "metadata": {
    "colab": {
      "name": "Trabalho Final - Aprendizado Não Supervisionado.ipynb",
      "provenance": [],
      "collapsed_sections": []
    },
    "kernelspec": {
      "name": "python3",
      "display_name": "Python 3"
    }
  },
  "cells": [
    {
      "cell_type": "code",
      "metadata": {
        "id": "z3f7N9cq48Ym"
      },
      "source": [
        "# Aluno: Felipe Eduardo Gomes\n",
        "# Pós-Graduação Data Science - Turma 2 - FURB\n",
        "\n",
        "import cv2\n",
        "import os\n",
        "import numpy as np\n",
        "import random"
      ],
      "execution_count": null,
      "outputs": []
    },
    {
      "cell_type": "code",
      "metadata": {
        "colab": {
          "base_uri": "https://localhost:8080/"
        },
        "id": "S6tIYSle-DCn",
        "outputId": "57db9439-aaf3-4f93-ffd1-e819fa0b9127"
      },
      "source": [
        "### TREINAMENTO\n",
        "faces_treino = []\n",
        "ids_treino = []\n",
        "faces_teste = []\n",
        "ids_teste= []\n",
        "indice_treino = 7 # Treino 70%\n",
        "\n",
        "def buscarImagem():\n",
        "\n",
        "    # Diretório com as fotos  \n",
        "    caminhos = [os.path.join('Fotos', f) for f in os.listdir('Fotos')]\n",
        "\n",
        "    # Embaralhar as imagens\n",
        "    random.shuffle(caminhos)\n",
        "\n",
        "    for caminhosImagem in caminhos:\n",
        "        imagemFace = cv2.cvtColor(cv2.imread(caminhosImagem), cv2.COLOR_BGR2GRAY)\n",
        "        id = int(os.path.split(caminhosImagem)[-1].split('_')[1].split('.')[0])\n",
        "        #print(id)\n",
        "\n",
        "        # Montar lista de treino 70% e teste 30%\n",
        "        if ids_treino.count(id) < indice_treino:\n",
        "             ids_treino.append(id)\n",
        "             faces_treino.append(imagemFace)\n",
        "        else :\n",
        "             ids_teste.append(id)\n",
        "             faces_teste.append(imagemFace)\n",
        "\n",
        "    return np.array(ids_treino), faces_treino, np.array(ids_teste), faces_teste\n",
        "\n",
        "ids_treino, faces_treino, ids_teste, faces_teste  = buscarImagem()\n",
        "\n",
        "print(\"Treinando....\")\n",
        "\n",
        "for k in range(10, 21, 1):\n",
        "  eigen = cv2.face.EigenFaceRecognizer_create(k)\n",
        "\n",
        "  eigen.train(faces_treino, ids_treino)\n",
        "  eigen.write('classificadorEigen_'+str(k)+'.yml')\n",
        "\n",
        "print(\"Treinamento concluído ...\")"
      ],
      "execution_count": null,
      "outputs": [
        {
          "output_type": "stream",
          "text": [
            "Treinando....\n",
            "Treinamento concluído ...\n"
          ],
          "name": "stdout"
        }
      ]
    },
    {
      "cell_type": "code",
      "metadata": {
        "colab": {
          "base_uri": "https://localhost:8080/"
        },
        "id": "QBQQkaC7KnkJ",
        "outputId": "83ed0fea-78af-4f78-e94f-f93bfa0d5da9"
      },
      "source": [
        "### RECONHECENDO\n",
        "for k in range(10, 21, 1):\n",
        " \n",
        "  total_acertos = 0\n",
        "  percentual_acerto = 0.0\n",
        "  i = 0\n",
        "\n",
        "  detector_face = cv2.CascadeClassifier(cv2.data.haarcascades + 'haarcascade_frontalface_default.xml')\n",
        "\n",
        "  reconhecedor_face = cv2.face.EigenFaceRecognizer_create()\n",
        "  reconhecedor_face.read(\"classificadorEigen_\"+str(k)+\".yml\")\n",
        "\n",
        "  for imagem_teste in faces_teste:\n",
        "    faces_detectadas = detector_face.detectMultiScale(imagem_teste)\n",
        "    for (x, y, l, a) in faces_detectadas:\n",
        "      id_previsto, confianca = reconhecedor_face.predict(imagem_teste)\n",
        "      id_atual = ids_teste[i]\n",
        "      if id_previsto == id_atual:\n",
        "        #print(\"Acertou a predição. Id Previsto: \"+str(id_previsto)+\" -> Id da foto: \"+str(id_atual))\n",
        "        total_acertos += 1\n",
        "    i += 1\n",
        "  percentual_acerto = (total_acertos / len(ids_teste)) * 100\n",
        "  print(str(k) + \" componentes principais, acurácia: \" + str(percentual_acerto) +\"%\")"
      ],
      "execution_count": null,
      "outputs": [
        {
          "output_type": "stream",
          "text": [
            "10 componentes principais, acurácia: 90.2439024390244%\n",
            "11 componentes principais, acurácia: 91.869918699187%\n",
            "12 componentes principais, acurácia: 91.869918699187%\n",
            "13 componentes principais, acurácia: 91.05691056910568%\n",
            "14 componentes principais, acurácia: 91.869918699187%\n",
            "15 componentes principais, acurácia: 91.05691056910568%\n",
            "16 componentes principais, acurácia: 91.05691056910568%\n",
            "17 componentes principais, acurácia: 91.05691056910568%\n",
            "18 componentes principais, acurácia: 91.05691056910568%\n",
            "19 componentes principais, acurácia: 91.869918699187%\n",
            "20 componentes principais, acurácia: 91.869918699187%\n"
          ],
          "name": "stdout"
        }
      ]
    }
  ]
}